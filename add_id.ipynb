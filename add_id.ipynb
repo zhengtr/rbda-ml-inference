{
 "cells": [
  {
   "cell_type": "code",
   "execution_count": 1,
   "metadata": {},
   "outputs": [],
   "source": [
    "import pandas as pd"
   ]
  },
  {
   "cell_type": "code",
   "execution_count": 16,
   "metadata": {},
   "outputs": [],
   "source": [
    "ques_header = [\"Source\", \"YearOfCreation\", \"Id\", \"Score\", \"Body\"]\n",
    "ans_header = [\"Source\", \"YearOfCreation\", \"ParentId\", \"Score\", \"Body\"]\n",
    "df_ques = pd.read_csv(\"./sample_data/mini_questions\", names=ques_header)\n",
    "df_ans = pd.read_csv(\"./sample_data/mini_answers\", names=ans_header)"
   ]
  },
  {
   "cell_type": "code",
   "execution_count": 19,
   "metadata": {},
   "outputs": [],
   "source": [
    "df_ques[\"unique_id\"] = df_ques.index\n",
    "df_ques[\"unique_id\"] = df_ques[\"unique_id\"].apply(str)\n",
    "df_ques[\"Source\"] = df_ques[[\"Source\", \"unique_id\"]].apply(\"_\".join, axis=1) \n",
    "df_ques = df_ques.drop(\"unique_id\", axis=1)\n",
    "df_ques.to_csv(\"sample_data/mini_answers_id\", index=False, header=False)"
   ]
  },
  {
   "cell_type": "code",
   "execution_count": 18,
   "metadata": {},
   "outputs": [],
   "source": [
    "df_ans[\"unique_id\"] = df_ans.index\n",
    "df_ans[\"unique_id\"] = df_ans[\"unique_id\"].apply(str)\n",
    "df_ans[\"Source\"] = df_ans[[\"Source\", \"unique_id\"]].apply(\"_\".join, axis=1) \n",
    "df_ans = df_ans.drop(\"unique_id\", axis=1)\n",
    "df_ans.to_csv(\"sample_data/mini_questions_id\", index=False, header=False)"
   ]
  }
 ],
 "metadata": {
  "kernelspec": {
   "display_name": "takina",
   "language": "python",
   "name": "python3"
  },
  "language_info": {
   "codemirror_mode": {
    "name": "ipython",
    "version": 3
   },
   "file_extension": ".py",
   "mimetype": "text/x-python",
   "name": "python",
   "nbconvert_exporter": "python",
   "pygments_lexer": "ipython3",
   "version": "3.9.13"
  },
  "orig_nbformat": 4
 },
 "nbformat": 4,
 "nbformat_minor": 2
}
